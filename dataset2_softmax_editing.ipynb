{
 "cells": [
  {
   "cell_type": "markdown",
   "metadata": {
    "id": "YWjR-pgsd-Si"
   },
   "source": [
    "# CS640 Programming Assignment 1: Neural Network\n",
    "\n",
    "In this programming assignment, you are asked to construct a neural network model (almost) from scratch, run experiments, and write reports. We provide a script of skeleton code as well as three datasets.\n",
    "\n",
    "Your tasks are the following.\n",
    "1. Build your network model following the instruction.\n",
    "2. Run experiments and produce results.\n",
    "3. Interpret and discuss your results.\n",
    "\n",
    "## Submission\n",
    "Everything you need to complete for this assignment is in this notebook, so this file is the only thing to submit via Gradescope before the deadline.\n",
    "\n",
    "## Collaboration\n",
    "You are allowed to work in a team of at most **three** on the **Q1: Coding** part, but you must run the experiments and write the reports independently.\n",
    "\n",
    "## More instructions\n",
    "\n",
    "If you are new to Python or its scientific library, Numpy, there are some nice tutorials [here](https://www.learnpython.org/) and [here](http://www.scipy-lectures.org/).\n",
    "\n",
    "In an ipython notebook, to run code in a cell or to render [Markdown](https://en.wikipedia.org/wiki/Markdown)+[LaTeX](https://en.wikipedia.org/wiki/LaTeX) press `Ctrl+Enter` or `[>|]`(like \"play\") button above. To edit any code or text cell (double) click on its content. To change cell type, choose \"Markdown\" or \"Code\" in the drop-down menu above.\n",
    "\n",
    "To enter your solutions for the written questions, put down your derivations into the corresponding cells below using LaTeX. Show all steps when proving statements. If you are not familiar with LaTeX, you should look at some tutorials and at the examples listed below between \\$..\\$. We will not accept handwritten solutions.\n",
    "\n",
    "Put your solutions into boxes marked with **`[double click here to add a solution]`** and press Ctrl+Enter to render text. (Double) click on a cell to edit or to see its source code. You can add cells via **`+`** sign at the top left corner."
   ]
  },
  {
   "cell_type": "markdown",
   "metadata": {
    "id": "O9ImiOu7jzNu"
   },
   "source": [
    "**Q0: What's your name? If you are collaborating with someone, please list their names here as well.**"
   ]
  },
  {
   "cell_type": "markdown",
   "metadata": {
    "id": "R4ldlvqYkyKw"
   },
   "source": [
    "**Lingyan Jiang**"
   ]
  },
  {
   "cell_type": "markdown",
   "metadata": {
    "id": "H6AxRuFOlU_B"
   },
   "source": [
    "**Q1: Coding**"
   ]
  },
  {
   "cell_type": "markdown",
   "metadata": {
    "id": "ce5gxnBCm7HW"
   },
   "source": [
    "**Q1.1: Import Packages**\n",
    "\n",
    "The packages that have been imported in the following block should be sufficient for this assignment, but you are free to add more if necessary. However, keep in mind that you **should not** import and use any neural network package. If you have concern about an addition package, please contact us via Piazza."
   ]
  },
  {
   "cell_type": "code",
   "execution_count": 46,
   "metadata": {
    "id": "rLhHI0rOdQJ0"
   },
   "outputs": [],
   "source": [
    "import numpy as np\n",
    "import scipy as sp\n",
    "import os, sys\n",
    "from sklearn.model_selection import StratifiedKFold, train_test_split\n",
    "import matplotlib.pyplot as plt\n",
    "import pandas as pd\n",
    "import math"
   ]
  },
  {
   "cell_type": "markdown",
   "metadata": {
    "id": "vI0x356RyO0h"
   },
   "source": [
    "**Q1.2: Load Data**\n",
    "\n",
    "We provide two sets of data, namely dataset1 and dataset2. Dataset1 contains two subsets of data, namely linearly and nonlinearly, neither of which is splitted into training and testing; while dataset2 has been splitted into training and testing. Write functions here to load them in your favorable way. You may want to skip this part first and come back after reading the experimenting part below."
   ]
  },
  {
   "cell_type": "code",
   "execution_count": 47,
   "metadata": {
    "id": "a9SifEwQzEo7"
   },
   "outputs": [],
   "source": [
    "def getDataset1(dataDir, is_linear = True):\n",
    "    if is_linear:\n",
    "        samples = pd.read_csv(dataDir + 'LinearX.csv', index_col=False, header=None)\n",
    "        X = samples.values\n",
    "        label = pd.read_csv(dataDir + 'LinearY.csv', index_col=False, header=None)\n",
    "        Y = label.values\n",
    "    else:\n",
    "        samples = pd.read_csv(dataDir + 'NonlinearX.csv', index_col=False, header=None)\n",
    "        X = samples.values\n",
    "        label = pd.read_csv(dataDir + 'NonlinearY.csv', index_col=False, header=None)\n",
    "        Y = label.values\n",
    "    return X, Y\n",
    "\n",
    "def getDataset2(dataDir):\n",
    "    samples = pd.read_csv(dataDir + 'Digit_X_train.csv', index_col=False, header=None)\n",
    "    XTrain = samples.values\n",
    "    label = pd.read_csv(dataDir + 'Digit_y_train.csv', index_col=False, header=None)\n",
    "    YTrain = label.values.astype(np.int64)\n",
    "    realx = pd.read_csv(dataDir + 'Digit_X_test.csv', index_col=False, header=None)\n",
    "    XTest = realx.values\n",
    "    realy = pd.read_csv(dataDir + 'Digit_y_test.csv', index_col=False, header=None)\n",
    "    YTest = realy.values.astype(np.int64)\n",
    "    return XTrain, YTrain, XTest, YTest\n",
    "    "
   ]
  },
  {
   "cell_type": "markdown",
   "metadata": {
    "id": "N9TiTFf9psFl"
   },
   "source": [
    "**Q1.3: Define Activation and Loss Functions**\n",
    "\n",
    "Complete the following functions. The ones starting with a \"d\" is the derivative of the corresponding function. You are free to implement additional ones (for example, softmax and cross-entory loss) if interested."
   ]
  },
  {
   "cell_type": "code",
   "execution_count": 48,
   "metadata": {
    "id": "yuxWGvbhp5jD"
   },
   "outputs": [],
   "source": [
    "def sigmoid(x):\n",
    "    sigmoidx = 1/(1 + np.exp(-x))\n",
    "    return sigmoidx\n",
    "    \n",
    "def dSigmoid(x):\n",
    "    return x*(1.0-x)\n",
    "    \n",
    "def euclideanLoss(YTrue, YPredict):\n",
    "    YTrue = np.array(YTrue)\n",
    "    YPredict = np.array(YPredict)\n",
    "    loss = 0\n",
    "    for i in range(len(YTrue)):\n",
    "        sum = 0.5 * np.square(YPredict[i] - YTrue[i])\n",
    "        loss = loss + sum \n",
    "    return loss\n",
    "    \n",
    "def dEuclideanLoss(YTrue, YPredict):\n",
    "    YTrue = np.array(YTrue)\n",
    "    YPredict = np.array(YPredict)\n",
    "    loss =YPredict - YTrue\n",
    "    return loss"
   ]
  },
  {
   "cell_type": "code",
   "execution_count": 49,
   "metadata": {},
   "outputs": [
    {
     "name": "stdout",
     "output_type": "stream",
     "text": [
      "1.5\n",
      "[ 1  1  0 -1]\n"
     ]
    }
   ],
   "source": [
    "#test\n",
    "a = [3,4,6,5]\n",
    "b = [4,5,6,4]\n",
    "print(euclideanLoss(a,b))\n",
    "print(dEuclideanLoss(a, b))"
   ]
  },
  {
   "cell_type": "markdown",
   "metadata": {
    "id": "zvhPU4YqoVZF"
   },
   "source": [
    "**Q1.4: Define the Layer Class**\n",
    "\n",
    "Complete the ***initializeWeights*** function, which initializes the weights and biases with small random values. The ***\\_\\_init\\_\\_*** function should be left as it is, though you are free to modify if you like."
   ]
  },
  {
   "cell_type": "code",
   "execution_count": 50,
   "metadata": {
    "id": "6r5h0hT8ofqQ"
   },
   "outputs": [],
   "source": [
    "class Layer:\n",
    "    def __init__(self, NInput, NOutput, bias = True):\n",
    "        self.NInput = NInput\n",
    "        self.NOutput = NOutput\n",
    "        self.useBias = bias\n",
    "        self.initializeWeights()\n",
    "    \n",
    "    def initializeWeights(self):\n",
    "        #Initializes the weights and biases with small random values.\n",
    "        self.weights = np.random.randn(self.NInput, self.NOutput) / np.sqrt(self.NInput)  \n",
    "        self.bias = np.zeros((1, self.NOutput))"
   ]
  },
  {
   "cell_type": "markdown",
   "metadata": {
    "id": "fXcQsl_XpAOW"
   },
   "source": [
    "**Q1.5: Define the Network Class**\n",
    "\n",
    "This is the heaviest part of this assignment. We recommend you to first go over the math carefully before starting this part.\n",
    "\n",
    "In addition, you are strongly encouraged to use numpy for matrix operations. When doing multiplication, please be careful about the dimensions, as well as the difference between the \"*\" operator, numpy's ***multiply*** function, and numpy's ***dot*** function."
   ]
  },
  {
   "cell_type": "code",
   "execution_count": 134,
   "metadata": {
    "id": "-p1xdHw0pKr8"
   },
   "outputs": [],
   "source": [
    "class Network:\n",
    "    def __init__(self, layers, activationList, dActivationList, loss, dLoss):\n",
    "        \"\"\"\n",
    "        Parameters\n",
    "        ----------\n",
    "        layers : List[Layers]\n",
    "            This should be a list of Layers objects.\n",
    "        activationList/dActivationList: List[functions]\n",
    "            This should be a list of activation/derivative functions (e.g. sigmoid/dSigmoid).\n",
    "        loss/dLoss: function\n",
    "            This should be a loss/derivative function (e.g. enclideanLoss/dEuclideanLoss).\n",
    "        \"\"\"\n",
    "        assert len(layers) == len(activationList) == len(dActivationList)\n",
    "        self.layers = layers\n",
    "        self.activationList = activationList\n",
    "        self.dActivationList = dActivationList\n",
    "        self.loss = loss\n",
    "        self.dLoss = dLoss\n",
    "    \n",
    "                \n",
    "    def fit(self, X, Y, learningRate, regLambda):\n",
    "        \"\"\"\n",
    "        Fit the model with input features and targets.\n",
    "        Parameters\n",
    "        ----------\n",
    "        X, Y : array-like\n",
    "            X contains the input features while Y contains the target values.\n",
    "        learningRate, regLambda : float\n",
    "            Basic hyperparameters for the model.\n",
    "        \"\"\"\n",
    "        # First, initialize zero gradients.\n",
    "        \n",
    "        # Next, use the forward and backprog functions to accumulate gradients\n",
    "        # sample by sample.\n",
    "        # Hint:\n",
    "        # For each sample, do:\n",
    "        #     Forward pass once, using the forward function defined below.\n",
    "        #     Backward propagation, using the backprog function defined below.\n",
    "        \n",
    "        # Lastly, update weights and biases using the gradients; don't forget to\n",
    "        # take the mean before updating the weights. Note that both the learning\n",
    "        # rate and the regularization should appear here.\n",
    "\n",
    "            \n",
    "        dweight=[]\n",
    "        dbias=[]\n",
    "        dweight.clear()\n",
    "        dbias.clear()\n",
    "        for layer in self.layers[::-1]:\n",
    "            dweight.append(np.zeros_like(layer.weights))\n",
    "            dbias.append(np.zeros_like(layer.bias))\n",
    "        value = self.forward(X)\n",
    "        dbias, dweight = self.backprog(value, X, Y, dbias, dweight)\n",
    "        num_sample = X.shape[0]\n",
    "        c = learningRate / num_sample\n",
    "        for rev_i, layer in enumerate(self.layers[::-1]):\n",
    "            layer.bias -= c * dbias[rev_i]\n",
    "            layer.weights =  (1 - c * regLambda) * layer.weights - c * dweight[rev_i] \n",
    "            \n",
    "  \n",
    "\n",
    "    def predict(self,X):\n",
    "        for layer in self.layers:\n",
    "            if layer == self.layers[-1]:\n",
    "                X = np.dot(X,layer.weights) + layer.bias\n",
    "            else:\n",
    "                z1 = np.dot(X,layer.weights) + layer.bias\n",
    "                X = np.tanh(z1)       \n",
    "        exp_z2 = np.exp(X)\n",
    "        softmax_scores = exp_z2 / np.sum(exp_z2, axis=1, keepdims=True)\n",
    "        predictions = np.argmax(softmax_scores, axis = 1)\n",
    "        return predictions\n",
    "    \n",
    "    \n",
    "    \n",
    "    \n",
    "    def forward(self, X):\n",
    "        value=[X]\n",
    "        for layer in self.layers:\n",
    "            if layer == self.layers[-1]:\n",
    "                X = np.dot(X,layer.weights) + layer.bias\n",
    "            else:\n",
    "                z1 = np.dot(X,layer.weights) + layer.bias\n",
    "                X = np.tanh(z1) \n",
    "                value.append(X)\n",
    "        exp_z2 = np.exp(X)\n",
    "        softmax_scores = exp_z2 / np.sum(exp_z2, axis=1, keepdims=True)\n",
    "        value.append(softmax_scores)\n",
    "        return value\n",
    "    \n",
    "########       \n",
    "    def backprog(self, value, X, Y, dbias, dweight):\n",
    "        softmax_scores=value[-1]\n",
    "        value_del=value[0:-1][::-1]\n",
    "        one_hot_y = np.zeros_like(softmax_scores)\n",
    "        for i in range(X.shape[0]):\n",
    "            one_hot_y[i, Y[i]] = 1\n",
    "        for index, layer in enumerate(self.layers[::-1]): \n",
    "            if layer == self.layers[-1]:\n",
    "                beta = softmax_scores - one_hot_y\n",
    "            else:\n",
    "                layerList=self.layers[::-1]\n",
    "                next_layer=layerList[index-1]\n",
    "                beta = np.dot(beta, next_layer.weights.T) * (1 - np.power(value_del[index-1], 2))\n",
    "            dbias[index] = np.sum(beta, axis  = 0, keepdims=True)\n",
    "            dweight[index] = np.dot(value_del[index].T, beta)\n",
    "        return dbias, dweight\n",
    "          \n",
    "    \n",
    "    def getLoss(self, X, Y):\n",
    "        num_examples = np.shape(X)[0]\n",
    "        value = self.forward(X)\n",
    "        softmax_scores = value[-1]\n",
    "        one_hot_y = np.zeros((num_examples,np.max(Y)+1))\n",
    "        logloss = np.zeros((num_examples))        \n",
    "        for i in range(np.shape(X)[0]):\n",
    "            one_hot_y[i,Y[i]] = 1\n",
    "            logloss[i] = -np.sum(np.log(softmax_scores[i,:]) * one_hot_y[i,:])\n",
    "        data_loss = np.sum(logloss)\n",
    "        return 1./num_examples * data_loss"
   ]
  },
  {
   "cell_type": "markdown",
   "metadata": {
    "id": "K2oGlVbmwJw7"
   },
   "source": [
    "**Q1.6: Define Evaluation Functions**\n",
    "\n",
    "Complete the functions below following the instructions in the comments. **Do not** use an existing library. If you would like to include a ROC analysis in your report, please add the corresponding function in this section."
   ]
  },
  {
   "cell_type": "code",
   "execution_count": 135,
   "metadata": {
    "id": "3jW5iEBzwOgK"
   },
   "outputs": [],
   "source": [
    "def getConfusionMatrix(YTrue, YPredict):\n",
    "    \"\"\"\n",
    "    Computes the confusion matrix.\n",
    "    Parameters\n",
    "    ----------\n",
    "    YTrue : numpy array\n",
    "        This array contains the ground truth.\n",
    "    YPredict : numpy array\n",
    "        This array contains the predictions.\n",
    "    Returns\n",
    "    CM : numpy matrix\n",
    "        The confusion matrix.\n",
    "    \"\"\"\n",
    "    acc = 0\n",
    "    con_mat = np.zeros((10,10))\n",
    "    for i in range(len(YPredict)):\n",
    "        con_mat[YPredict[i], YTrue[i]] += 1\n",
    "        if YTrue[i] == YPredict[i]: \n",
    "            acc += 1\n",
    "    acc = acc*1.0/len(YPredict)\n",
    "    \n",
    "    return acc, con_mat\n",
    "\n",
    "    \n",
    "\n",
    "    \n",
    "def getPerformanceScores(YTrue, YPredict):\n",
    "    \"\"\"\n",
    "    Computes the accuracy, precision, recall, f1 score.\n",
    "    Parameters\n",
    "    ----------\n",
    "    YTrue : numpy array\n",
    "        This array contains the ground truth.\n",
    "    YPredict : numpy array\n",
    "        This array contains the predictions.\n",
    "    Returns\n",
    "    {\"CM\" : numpy matrix,\n",
    "    \"accuracy\" : float,\n",
    "    \"precision\" : float,\n",
    "    \"recall\" : float,\n",
    "    \"f1\" : float}\n",
    "        This should be a dictionary.\n",
    "    \"\"\"\n",
    "    YTrue = YTrue.T.flatten()\n",
    "    YPredict = YPredict.T.flatten()\n",
    "    true = 0\n",
    "    tp = 0\n",
    "    fp = 0\n",
    "    tn = 0\n",
    "    fn = 0\n",
    "    for i in range(len(YTrue)):\n",
    "        if YTrue[i] == YPredict[i]:\n",
    "            true = true + 1;\n",
    "    print(\"accuracy is \")\n",
    "    print(true / len(YTrue))\n",
    "    #accuracy = (CM[0][0] + CM[1][1]) / (CM[0][0] + CM[0][1] + CM[1][0] + CM[1][1])\n",
    "    #precision = (CM[0][0]) / (CM[1][0] + CM[0][0])\n",
    "    #recall = CM[0][0] / (CM[0][0] + CM[0][1])\n",
    "    #f1 = 2 / (1 / precision + 1 / recall)\n",
    "    #return CM, accuracy, precision, recall, f1\n",
    "   "
   ]
  },
  {
   "cell_type": "markdown",
   "metadata": {
    "id": "3NS8f9qz0fSK"
   },
   "source": [
    "**Q1.7: Test Model**\n",
    "\n",
    "Use the following example code to test your model with some simple data. You may want to go back to **Q1.2** if you skipped it earlier.\n",
    "\n",
    "Hint:\n",
    "1. Changing your model structure can help you discover bugs in implementation.\n",
    "2. The loss plot should help you make sure that your model is indeed learning.\n",
    "\n",
    "**You need to produce decreasing loss curves here.**"
   ]
  },
  {
   "cell_type": "code",
   "execution_count": 136,
   "metadata": {
    "id": "gTyLlzEa0a0U"
   },
   "outputs": [
    {
     "data": {
      "image/png": "[encoded data removed]",
      "text/plain": [
       "<Figure size 432x288 with 1 Axes>"
      ]
     },
     "metadata": {
      "needs_background": "light"
     },
     "output_type": "display_data"
    }
   ],
   "source": [
    "XTrain, YTrain, XTest, YTest = getDataset2('/Users/lingyanjiang/study/cs640/P1/Data/dataset2/')# change this line accordingly\n",
    "\n",
    "# assemble your model\n",
    "layers = [Layer(64, 10), Layer(10, 10)]\n",
    "model = Network(layers, [sigmoid, sigmoid], [dSigmoid, dSigmoid], euclideanLoss, dEuclideanLoss)\n",
    "\n",
    "# specify training parameters\n",
    "epochs = 20\n",
    "learningRate = 1e-2\n",
    "regLambda = 0\n",
    "\n",
    "# capture the loss values during training\n",
    "loss = {\"train\" : [0.0] * epochs, \"test\" : [0.0] * epochs}\n",
    "\n",
    "# start training\n",
    "for epoch in range(epochs):\n",
    "    model.fit(XTrain, YTrain, learningRate, regLambda)\n",
    "    loss[\"train\"][epoch] = model.getLoss(XTrain, YTrain)\n",
    "    loss[\"test\"][epoch] = model.getLoss(XTest, YTest)\n",
    "\n",
    "# plot the losses, both curves should be decreasing\n",
    "plt.plot([i for i in range(epochs)], loss[\"train\"], label = \"train\")\n",
    "plt.plot([i for i in range(epochs)], loss[\"test\"], label = \"test\")\n",
    "plt.legend()\n",
    "plt.title(\"Loss Plot\")\n",
    "plt.xlabel(\"Epoch\")\n",
    "plt.show()\n"
   ]
  },
  {
   "cell_type": "markdown",
   "metadata": {
    "id": "gs8PtEHi2jXs"
   },
   "source": [
    "**Q2: Experimenting with Dataset 1**\n",
    "\n",
    "In this section, the **performance results** you need to report include the following:\n",
    "1. confusion matrix;\n",
    "2. accuracy;\n",
    "3. precision;\n",
    "4. recall;\n",
    "5. F1 score."
   ]
  },
  {
   "cell_type": "markdown",
   "metadata": {
    "id": "NfMeuvrO3RaU"
   },
   "source": [
    "**Q2.1: LinearXY**\n",
    "\n",
    "Split the data using [train_test_split](https://scikit-learn.org/stable/modules/generated/sklearn.model_selection.train_test_split.html). Train your model, evaluate the prediction on the testing subset, and report the **performance results**."
   ]
  },
  {
   "cell_type": "code",
   "execution_count": 148,
   "metadata": {
    "id": "gDONUUH37ooO"
   },
   "outputs": [
    {
     "name": "stdout",
     "output_type": "stream",
     "text": [
      "(0.3047830923248053, array([[62.,  0.,  9.,  2.,  6.,  5.,  7.,  3.,  5.,  0.],\n",
      "       [ 1.,  0.,  0.,  0.,  0.,  0., 17.,  0.,  0.,  0.],\n",
      "       [ 9., 15., 42., 12., 34., 15.,  4., 38., 42., 38.],\n",
      "       [ 0.,  2.,  3., 30.,  0.,  2.,  0.,  0.,  0.,  2.],\n",
      "       [ 8.,  0.,  1.,  0., 30.,  1., 59.,  0.,  1.,  0.],\n",
      "       [ 3.,  2.,  7.,  7.,  7., 64.,  2.,  0.,  3.,  2.],\n",
      "       [ 0., 50.,  0.,  0.,  4.,  0.,  2.,  1., 12.,  0.],\n",
      "       [ 0., 22., 24., 39.,  5.,  1.,  0., 43., 24., 50.],\n",
      "       [ 5.,  0.,  0.,  0.,  6.,  3.,  0.,  0.,  1.,  0.],\n",
      "       [ 0.,  0.,  0.,  1.,  0.,  0.,  0.,  4.,  0.,  0.]]))\n"
     ]
    }
   ],
   "source": [
    "# write your code in this block\n",
    "XTrain, YTrain, XTest, YTest = getDataset2('/Users/lingyanjiang/study/cs640/P1/Data/dataset2/')# change this line accordingly\n",
    "\n",
    "# assemble your model\n",
    "layers = [Layer(64, 10), Layer(10, 10)]\n",
    "model = Network(layers, [sigmoid, sigmoid], [dSigmoid, dSigmoid], euclideanLoss, dEuclideanLoss)\n",
    "\n",
    "# specify training parameters\n",
    "epochs = 20\n",
    "learningRate = 1e-2\n",
    "regLambda = 0\n",
    "\n",
    "# start training\n",
    "for epoch in range(epochs):\n",
    "    model.fit(XTrain, YTrain, learningRate, regLambda)\n",
    "    \n",
    "#test\n",
    "YPredict = model.predict(XTest)\n",
    "YPredict = YPredict\n",
    "#print(YPredict)\n",
    "#print(YTest)\n",
    "  \n",
    "\n",
    "print(getConfusionMatrix(YTest, YPredict))\n",
    "#print(getPerformanceScores(YTest, YPredict))"
   ]
  },
  {
   "cell_type": "markdown",
   "metadata": {
    "id": "x5y4l2tA7rGv"
   },
   "source": [
    "In addition, use the provided ***plotDecisionBoundary*** function to visualize the data."
   ]
  },
  {
   "cell_type": "code",
   "execution_count": 145,
   "metadata": {
    "id": "YJVa8Po973V7"
   },
   "outputs": [],
   "source": [
    "def plotDecisionBoundary(model, X, Y):\n",
    "    \"\"\"\n",
    "    Plot the decision boundary given by model.\n",
    "    Parameters\n",
    "    ----------\n",
    "    model : model, whose parameters are used to plot the decision boundary.\n",
    "    X : input data\n",
    "    Y : input labels\n",
    "    \"\"\"\n",
    "    x1_array, x2_array = np.meshgrid(np.arange(-4, 4, 0.01), np.arange(-4, 4, 0.01))\n",
    "    grid_coordinates = np.c_[x1_array.ravel(), x2_array.ravel()]\n",
    "    Z = model.predict(grid_coordinates)\n",
    "    #threshold = 0.5\n",
    "    #for i in range (Z.shape[0]):\n",
    "        #if Z[i] >= threshold:\n",
    "            #Z[i] = 1\n",
    "        #elif Z[i] < threshold:\n",
    "            #Z[i] = 0\n",
    "    Z = Z.reshape(x1_array.shape)\n",
    "    plt.contourf(x1_array, x2_array, Z, cmap=plt.cm.bwr)\n",
    "    plt.scatter(X[:, 0], X[:, 1], c='y', cmap=plt.cm.bwr)\n",
    "    plt.show()\n"
   ]
  },
  {
   "cell_type": "code",
   "execution_count": 147,
   "metadata": {},
   "outputs": [
    {
     "ename": "ValueError",
     "evalue": "shapes (640000,2) and (64,10) not aligned: 2 (dim 1) != 64 (dim 0)",
     "output_type": "error",
     "traceback": [
      "\u001b[0;31m---------------------------------------------------------------------------\u001b[0m",
      "\u001b[0;31mValueError\u001b[0m                                Traceback (most recent call last)",
      "\u001b[0;32m<ipython-input-147-087f9204617c>\u001b[0m in \u001b[0;36m<module>\u001b[0;34m\u001b[0m\n\u001b[0;32m----> 1\u001b[0;31m \u001b[0mplotDecisionBoundary\u001b[0m\u001b[0;34m(\u001b[0m\u001b[0mmodel\u001b[0m\u001b[0;34m,\u001b[0m \u001b[0mXTrain\u001b[0m\u001b[0;34m,\u001b[0m \u001b[0mYTrain\u001b[0m\u001b[0;34m)\u001b[0m\u001b[0;34m\u001b[0m\u001b[0;34m\u001b[0m\u001b[0m\n\u001b[0m",
      "\u001b[0;32m<ipython-input-145-720f0a826675>\u001b[0m in \u001b[0;36mplotDecisionBoundary\u001b[0;34m(model, X, Y)\u001b[0m\n\u001b[1;32m     10\u001b[0m     \u001b[0mx1_array\u001b[0m\u001b[0;34m,\u001b[0m \u001b[0mx2_array\u001b[0m \u001b[0;34m=\u001b[0m \u001b[0mnp\u001b[0m\u001b[0;34m.\u001b[0m\u001b[0mmeshgrid\u001b[0m\u001b[0;34m(\u001b[0m\u001b[0mnp\u001b[0m\u001b[0;34m.\u001b[0m\u001b[0marange\u001b[0m\u001b[0;34m(\u001b[0m\u001b[0;34m-\u001b[0m\u001b[0;36m4\u001b[0m\u001b[0;34m,\u001b[0m \u001b[0;36m4\u001b[0m\u001b[0;34m,\u001b[0m \u001b[0;36m0.01\u001b[0m\u001b[0;34m)\u001b[0m\u001b[0;34m,\u001b[0m \u001b[0mnp\u001b[0m\u001b[0;34m.\u001b[0m\u001b[0marange\u001b[0m\u001b[0;34m(\u001b[0m\u001b[0;34m-\u001b[0m\u001b[0;36m4\u001b[0m\u001b[0;34m,\u001b[0m \u001b[0;36m4\u001b[0m\u001b[0;34m,\u001b[0m \u001b[0;36m0.01\u001b[0m\u001b[0;34m)\u001b[0m\u001b[0;34m)\u001b[0m\u001b[0;34m\u001b[0m\u001b[0;34m\u001b[0m\u001b[0m\n\u001b[1;32m     11\u001b[0m     \u001b[0mgrid_coordinates\u001b[0m \u001b[0;34m=\u001b[0m \u001b[0mnp\u001b[0m\u001b[0;34m.\u001b[0m\u001b[0mc_\u001b[0m\u001b[0;34m[\u001b[0m\u001b[0mx1_array\u001b[0m\u001b[0;34m.\u001b[0m\u001b[0mravel\u001b[0m\u001b[0;34m(\u001b[0m\u001b[0;34m)\u001b[0m\u001b[0;34m,\u001b[0m \u001b[0mx2_array\u001b[0m\u001b[0;34m.\u001b[0m\u001b[0mravel\u001b[0m\u001b[0;34m(\u001b[0m\u001b[0;34m)\u001b[0m\u001b[0;34m]\u001b[0m\u001b[0;34m\u001b[0m\u001b[0;34m\u001b[0m\u001b[0m\n\u001b[0;32m---> 12\u001b[0;31m     \u001b[0mZ\u001b[0m \u001b[0;34m=\u001b[0m \u001b[0mmodel\u001b[0m\u001b[0;34m.\u001b[0m\u001b[0mpredict\u001b[0m\u001b[0;34m(\u001b[0m\u001b[0mgrid_coordinates\u001b[0m\u001b[0;34m)\u001b[0m\u001b[0;34m\u001b[0m\u001b[0;34m\u001b[0m\u001b[0m\n\u001b[0m\u001b[1;32m     13\u001b[0m     \u001b[0;31m#threshold = 0.5\u001b[0m\u001b[0;34m\u001b[0m\u001b[0;34m\u001b[0m\u001b[0;34m\u001b[0m\u001b[0m\n\u001b[1;32m     14\u001b[0m     \u001b[0;31m#for i in range (Z.shape[0]):\u001b[0m\u001b[0;34m\u001b[0m\u001b[0;34m\u001b[0m\u001b[0;34m\u001b[0m\u001b[0m\n",
      "\u001b[0;32m<ipython-input-134-f47fc4d57022>\u001b[0m in \u001b[0;36mpredict\u001b[0;34m(self, X)\u001b[0m\n\u001b[1;32m     65\u001b[0m                 \u001b[0mX\u001b[0m \u001b[0;34m=\u001b[0m \u001b[0mnp\u001b[0m\u001b[0;34m.\u001b[0m\u001b[0mdot\u001b[0m\u001b[0;34m(\u001b[0m\u001b[0mX\u001b[0m\u001b[0;34m,\u001b[0m\u001b[0mlayer\u001b[0m\u001b[0;34m.\u001b[0m\u001b[0mweights\u001b[0m\u001b[0;34m)\u001b[0m \u001b[0;34m+\u001b[0m \u001b[0mlayer\u001b[0m\u001b[0;34m.\u001b[0m\u001b[0mbias\u001b[0m\u001b[0;34m\u001b[0m\u001b[0;34m\u001b[0m\u001b[0m\n\u001b[1;32m     66\u001b[0m             \u001b[0;32melse\u001b[0m\u001b[0;34m:\u001b[0m\u001b[0;34m\u001b[0m\u001b[0;34m\u001b[0m\u001b[0m\n\u001b[0;32m---> 67\u001b[0;31m                 \u001b[0mz1\u001b[0m \u001b[0;34m=\u001b[0m \u001b[0mnp\u001b[0m\u001b[0;34m.\u001b[0m\u001b[0mdot\u001b[0m\u001b[0;34m(\u001b[0m\u001b[0mX\u001b[0m\u001b[0;34m,\u001b[0m\u001b[0mlayer\u001b[0m\u001b[0;34m.\u001b[0m\u001b[0mweights\u001b[0m\u001b[0;34m)\u001b[0m \u001b[0;34m+\u001b[0m \u001b[0mlayer\u001b[0m\u001b[0;34m.\u001b[0m\u001b[0mbias\u001b[0m\u001b[0;34m\u001b[0m\u001b[0;34m\u001b[0m\u001b[0m\n\u001b[0m\u001b[1;32m     68\u001b[0m                 \u001b[0mX\u001b[0m \u001b[0;34m=\u001b[0m \u001b[0mnp\u001b[0m\u001b[0;34m.\u001b[0m\u001b[0mtanh\u001b[0m\u001b[0;34m(\u001b[0m\u001b[0mz1\u001b[0m\u001b[0;34m)\u001b[0m\u001b[0;34m\u001b[0m\u001b[0;34m\u001b[0m\u001b[0m\n\u001b[1;32m     69\u001b[0m         \u001b[0mexp_z2\u001b[0m \u001b[0;34m=\u001b[0m \u001b[0mnp\u001b[0m\u001b[0;34m.\u001b[0m\u001b[0mexp\u001b[0m\u001b[0;34m(\u001b[0m\u001b[0mX\u001b[0m\u001b[0;34m)\u001b[0m\u001b[0;34m\u001b[0m\u001b[0;34m\u001b[0m\u001b[0m\n",
      "\u001b[0;32m<__array_function__ internals>\u001b[0m in \u001b[0;36mdot\u001b[0;34m(*args, **kwargs)\u001b[0m\n",
      "\u001b[0;31mValueError\u001b[0m: shapes (640000,2) and (64,10) not aligned: 2 (dim 1) != 64 (dim 0)"
     ]
    }
   ],
   "source": [
    "plotDecisionBoundary(model, XTrain, YTrain)"
   ]
  },
  {
   "cell_type": "markdown",
   "metadata": {
    "id": "SxFyc5kI8D-I"
   },
   "source": [
    "**Q2.2: NonLinearXY**\n",
    "\n",
    "For the experiments done in this subset of the data, apply stratified 5-fold cross-validation (use the [StratifiedKFold](https://scikit-learn.org/stable/modules/generated/sklearn.model_selection.StratifiedKFold.html) module from scikit-learn), and report the mean **performance results** across the folds.\n",
    "\n",
    "You should produce and describe in words\n",
    "1. **performance results** of at least **5** different choices of total epochs;\n",
    "2. **performance results** of at least **5** different choices of learning rate;\n",
    "3. **performance results** of at least **3** different choices of regularization parameter."
   ]
  },
  {
   "cell_type": "markdown",
   "metadata": {
    "id": "jGasEudB__Dh"
   },
   "source": [
    "**Q3: Experimenting with Dataset 2**\n",
    "\n",
    "Train your model, evaluate the prediction on the testing subset, report and describe in words\n",
    "1. **performance results** of at least **5** different choices of total epochs;\n",
    "2. **performance results** of at least **5** different choices of learning rate;\n",
    "3. **performance results** of at least **3** different choices of regularization parameter.\n",
    "4. **performance results** of at least **5** different choices of number of nodes in the hidden layer."
   ]
  },
  {
   "cell_type": "markdown",
   "metadata": {
    "id": "54PIDOy8Aqbx"
   },
   "source": [
    "**Q4: Other Questions**"
   ]
  },
  {
   "cell_type": "markdown",
   "metadata": {
    "id": "MPFklnbuAwg_"
   },
   "source": [
    "**Q4.1** Briefly describe the workflow of how your model classify the data."
   ]
  },
  {
   "cell_type": "markdown",
   "metadata": {
    "id": "q8RYC8yiBEvU"
   },
   "source": [
    "**`[double click here to add a solution]`**"
   ]
  },
  {
   "cell_type": "markdown",
   "metadata": {
    "id": "ZJ6k2vbJBFcU"
   },
   "source": [
    "**Q4.2** In your own words, explain how the forward propagation in your model works. You can cite your code here."
   ]
  },
  {
   "cell_type": "markdown",
   "metadata": {
    "id": "eZSqrQX-BofT"
   },
   "source": [
    "**`[double click here to add a solution]`**"
   ]
  },
  {
   "cell_type": "markdown",
   "metadata": {
    "id": "xDkm7LCOBpOZ"
   },
   "source": [
    "**Q4.3** In your own words, explain how the backward propagation in your model works. You can cite your code here."
   ]
  },
  {
   "cell_type": "markdown",
   "metadata": {
    "id": "QCf69EeTB37F"
   },
   "source": [
    "**`[double click here to add a solution]`**"
   ]
  },
  {
   "cell_type": "markdown",
   "metadata": {
    "id": "u4v_t-JdB726"
   },
   "source": [
    "**Q4.4** In theory, how do the total number of epochs, the learning rate, and the regularization parameter impact the performance of model? Does any of the theoretical impact actually happen in your result? If so, point them out."
   ]
  }
 ],
 "metadata": {
  "colab": {
   "collapsed_sections": [],
   "name": "CS640P1NN.ipynb",
   "provenance": []
  },
  "kernelspec": {
   "display_name": "Python 3",
   "language": "python",
   "name": "python3"
  },
  "language_info": {
   "codemirror_mode": {
    "name": "ipython",
    "version": 3
   },
   "file_extension": ".py",
   "mimetype": "text/x-python",
   "name": "python",
   "nbconvert_exporter": "python",
   "pygments_lexer": "ipython3",
   "version": "3.8.3"
  }
 },
 "nbformat": 4,
 "nbformat_minor": 1
}
